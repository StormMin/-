{
 "cells": [
  {
   "cell_type": "markdown",
   "metadata": {},
   "source": [
    "## 3. 미분\n",
    "### 변화량, 변화율\n",
    "단위가 중요\n",
    "\n",
    "[Quiz] 950130.csv 파일의 읽고, 다음을 계산하시오.\n",
    "1. 고가에 대한 연간, 월간, 주간, 일간 주가의 변화량\n",
    "2. 고가에 대한 연간, 월간, 주간, 일간 주가의 변화율\n",
    "3. 변화율에 대한 평균값을 읽고, \n",
    "4. 변화율로 부터, 2019년 9월 19일 주가로부터 2020년 9월 18일의 주가를 계산하시오."
   ]
  },
  {
   "cell_type": "code",
   "execution_count": 1,
   "metadata": {},
   "outputs": [
    {
     "data": {
      "text/html": [
       "<div>\n",
       "<style scoped>\n",
       "    .dataframe tbody tr th:only-of-type {\n",
       "        vertical-align: middle;\n",
       "    }\n",
       "\n",
       "    .dataframe tbody tr th {\n",
       "        vertical-align: top;\n",
       "    }\n",
       "\n",
       "    .dataframe thead th {\n",
       "        text-align: right;\n",
       "    }\n",
       "</style>\n",
       "<table border=\"1\" class=\"dataframe\">\n",
       "  <thead>\n",
       "    <tr style=\"text-align: right;\">\n",
       "      <th></th>\n",
       "      <th>High</th>\n",
       "    </tr>\n",
       "    <tr>\n",
       "      <th>Date</th>\n",
       "      <th></th>\n",
       "    </tr>\n",
       "  </thead>\n",
       "  <tbody>\n",
       "    <tr>\n",
       "      <th>2020-09-18</th>\n",
       "      <td>31800</td>\n",
       "    </tr>\n",
       "    <tr>\n",
       "      <th>2020-09-17</th>\n",
       "      <td>32900</td>\n",
       "    </tr>\n",
       "    <tr>\n",
       "      <th>2020-09-16</th>\n",
       "      <td>31950</td>\n",
       "    </tr>\n",
       "    <tr>\n",
       "      <th>2020-09-15</th>\n",
       "      <td>30500</td>\n",
       "    </tr>\n",
       "    <tr>\n",
       "      <th>2020-09-14</th>\n",
       "      <td>30000</td>\n",
       "    </tr>\n",
       "  </tbody>\n",
       "</table>\n",
       "</div>"
      ],
      "text/plain": [
       "             High\n",
       "Date             \n",
       "2020-09-18  31800\n",
       "2020-09-17  32900\n",
       "2020-09-16  31950\n",
       "2020-09-15  30500\n",
       "2020-09-14  30000"
      ]
     },
     "execution_count": 1,
     "metadata": {},
     "output_type": "execute_result"
    }
   ],
   "source": [
    "import numpy as np\n",
    "import pandas as pd\n",
    "sp = pd.read_csv(\"950130.csv\", parse_dates=[\"Date\"])\n",
    "sp = sp.set_index(\"Date\", drop=True)\n",
    "sphigh = sp[[\"High\"]]\n",
    "sphigh.head()"
   ]
  },
  {
   "cell_type": "markdown",
   "metadata": {},
   "source": [
    "(1) 연간 변화량과 변화율"
   ]
  },
  {
   "cell_type": "code",
   "execution_count": 2,
   "metadata": {},
   "outputs": [
    {
     "data": {
      "text/plain": [
       "(29590, 13.389140271493213)"
      ]
     },
     "execution_count": 2,
     "metadata": {},
     "output_type": "execute_result"
    }
   ],
   "source": [
    "ydiff = sphigh.iloc[0,0] - sphigh.iloc[-1,0]\n",
    "ydiffrate = ydiff/sphigh.iloc[-1,0]\n",
    "ydiff, ydiffrate"
   ]
  },
  {
   "cell_type": "markdown",
   "metadata": {},
   "source": [
    "(2) 월간 변화량과 변화율"
   ]
  },
  {
   "cell_type": "code",
   "execution_count": 3,
   "metadata": {},
   "outputs": [],
   "source": [
    "didx = pd.date_range('2019-9-19', '2020-9-19')"
   ]
  },
  {
   "cell_type": "code",
   "execution_count": 4,
   "metadata": {},
   "outputs": [
    {
     "data": {
      "text/html": [
       "<div>\n",
       "<style scoped>\n",
       "    .dataframe tbody tr th:only-of-type {\n",
       "        vertical-align: middle;\n",
       "    }\n",
       "\n",
       "    .dataframe tbody tr th {\n",
       "        vertical-align: top;\n",
       "    }\n",
       "\n",
       "    .dataframe thead th {\n",
       "        text-align: right;\n",
       "    }\n",
       "</style>\n",
       "<table border=\"1\" class=\"dataframe\">\n",
       "  <thead>\n",
       "    <tr style=\"text-align: right;\">\n",
       "      <th></th>\n",
       "      <th>High</th>\n",
       "    </tr>\n",
       "  </thead>\n",
       "  <tbody>\n",
       "    <tr>\n",
       "      <th>2020-09-15</th>\n",
       "      <td>30500.0</td>\n",
       "    </tr>\n",
       "    <tr>\n",
       "      <th>2020-09-16</th>\n",
       "      <td>31950.0</td>\n",
       "    </tr>\n",
       "    <tr>\n",
       "      <th>2020-09-17</th>\n",
       "      <td>32900.0</td>\n",
       "    </tr>\n",
       "    <tr>\n",
       "      <th>2020-09-18</th>\n",
       "      <td>31800.0</td>\n",
       "    </tr>\n",
       "    <tr>\n",
       "      <th>2020-09-19</th>\n",
       "      <td>NaN</td>\n",
       "    </tr>\n",
       "  </tbody>\n",
       "</table>\n",
       "</div>"
      ],
      "text/plain": [
       "               High\n",
       "2020-09-15  30500.0\n",
       "2020-09-16  31950.0\n",
       "2020-09-17  32900.0\n",
       "2020-09-18  31800.0\n",
       "2020-09-19      NaN"
      ]
     },
     "execution_count": 4,
     "metadata": {},
     "output_type": "execute_result"
    }
   ],
   "source": [
    "tmp = sphigh.reindex(index=didx)\n",
    "tmp.tail()"
   ]
  },
  {
   "cell_type": "code",
   "execution_count": 5,
   "metadata": {},
   "outputs": [
    {
     "data": {
      "text/html": [
       "<div>\n",
       "<style scoped>\n",
       "    .dataframe tbody tr th:only-of-type {\n",
       "        vertical-align: middle;\n",
       "    }\n",
       "\n",
       "    .dataframe tbody tr th {\n",
       "        vertical-align: top;\n",
       "    }\n",
       "\n",
       "    .dataframe thead th {\n",
       "        text-align: right;\n",
       "    }\n",
       "</style>\n",
       "<table border=\"1\" class=\"dataframe\">\n",
       "  <thead>\n",
       "    <tr style=\"text-align: right;\">\n",
       "      <th></th>\n",
       "      <th>High</th>\n",
       "    </tr>\n",
       "  </thead>\n",
       "  <tbody>\n",
       "    <tr>\n",
       "      <th>2020-09-15</th>\n",
       "      <td>30500.0</td>\n",
       "    </tr>\n",
       "    <tr>\n",
       "      <th>2020-09-16</th>\n",
       "      <td>31950.0</td>\n",
       "    </tr>\n",
       "    <tr>\n",
       "      <th>2020-09-17</th>\n",
       "      <td>32900.0</td>\n",
       "    </tr>\n",
       "    <tr>\n",
       "      <th>2020-09-18</th>\n",
       "      <td>31800.0</td>\n",
       "    </tr>\n",
       "    <tr>\n",
       "      <th>2020-09-19</th>\n",
       "      <td>31800.0</td>\n",
       "    </tr>\n",
       "  </tbody>\n",
       "</table>\n",
       "</div>"
      ],
      "text/plain": [
       "               High\n",
       "2020-09-15  30500.0\n",
       "2020-09-16  31950.0\n",
       "2020-09-17  32900.0\n",
       "2020-09-18  31800.0\n",
       "2020-09-19  31800.0"
      ]
     },
     "execution_count": 5,
     "metadata": {},
     "output_type": "execute_result"
    }
   ],
   "source": [
    "tmp = tmp.fillna(method='ffill')\n",
    "tmp.tail()"
   ]
  },
  {
   "cell_type": "code",
   "execution_count": 6,
   "metadata": {},
   "outputs": [
    {
     "data": {
      "text/html": [
       "<div>\n",
       "<style scoped>\n",
       "    .dataframe tbody tr th:only-of-type {\n",
       "        vertical-align: middle;\n",
       "    }\n",
       "\n",
       "    .dataframe tbody tr th {\n",
       "        vertical-align: top;\n",
       "    }\n",
       "\n",
       "    .dataframe thead th {\n",
       "        text-align: right;\n",
       "    }\n",
       "</style>\n",
       "<table border=\"1\" class=\"dataframe\">\n",
       "  <thead>\n",
       "    <tr style=\"text-align: right;\">\n",
       "      <th></th>\n",
       "      <th>High</th>\n",
       "    </tr>\n",
       "  </thead>\n",
       "  <tbody>\n",
       "    <tr>\n",
       "      <th>2019-09-19</th>\n",
       "      <td>2210.0</td>\n",
       "    </tr>\n",
       "    <tr>\n",
       "      <th>2019-10-19</th>\n",
       "      <td>2270.0</td>\n",
       "    </tr>\n",
       "    <tr>\n",
       "      <th>2019-11-19</th>\n",
       "      <td>2490.0</td>\n",
       "    </tr>\n",
       "    <tr>\n",
       "      <th>2019-12-19</th>\n",
       "      <td>2205.0</td>\n",
       "    </tr>\n",
       "    <tr>\n",
       "      <th>2020-01-19</th>\n",
       "      <td>2125.0</td>\n",
       "    </tr>\n",
       "    <tr>\n",
       "      <th>2020-02-19</th>\n",
       "      <td>2310.0</td>\n",
       "    </tr>\n",
       "    <tr>\n",
       "      <th>2020-03-19</th>\n",
       "      <td>3675.0</td>\n",
       "    </tr>\n",
       "    <tr>\n",
       "      <th>2020-04-19</th>\n",
       "      <td>4440.0</td>\n",
       "    </tr>\n",
       "    <tr>\n",
       "      <th>2020-05-19</th>\n",
       "      <td>4460.0</td>\n",
       "    </tr>\n",
       "    <tr>\n",
       "      <th>2020-06-19</th>\n",
       "      <td>3705.0</td>\n",
       "    </tr>\n",
       "    <tr>\n",
       "      <th>2020-07-19</th>\n",
       "      <td>3735.0</td>\n",
       "    </tr>\n",
       "    <tr>\n",
       "      <th>2020-08-19</th>\n",
       "      <td>49750.0</td>\n",
       "    </tr>\n",
       "    <tr>\n",
       "      <th>2020-09-19</th>\n",
       "      <td>31800.0</td>\n",
       "    </tr>\n",
       "  </tbody>\n",
       "</table>\n",
       "</div>"
      ],
      "text/plain": [
       "               High\n",
       "2019-09-19   2210.0\n",
       "2019-10-19   2270.0\n",
       "2019-11-19   2490.0\n",
       "2019-12-19   2205.0\n",
       "2020-01-19   2125.0\n",
       "2020-02-19   2310.0\n",
       "2020-03-19   3675.0\n",
       "2020-04-19   4440.0\n",
       "2020-05-19   4460.0\n",
       "2020-06-19   3705.0\n",
       "2020-07-19   3735.0\n",
       "2020-08-19  49750.0\n",
       "2020-09-19  31800.0"
      ]
     },
     "execution_count": 6,
     "metadata": {},
     "output_type": "execute_result"
    }
   ],
   "source": [
    "tmp19 = tmp[didx.day == 19]\n",
    "tmp19"
   ]
  },
  {
   "cell_type": "code",
   "execution_count": 7,
   "metadata": {},
   "outputs": [
    {
     "data": {
      "text/html": [
       "<div>\n",
       "<style scoped>\n",
       "    .dataframe tbody tr th:only-of-type {\n",
       "        vertical-align: middle;\n",
       "    }\n",
       "\n",
       "    .dataframe tbody tr th {\n",
       "        vertical-align: top;\n",
       "    }\n",
       "\n",
       "    .dataframe thead th {\n",
       "        text-align: right;\n",
       "    }\n",
       "</style>\n",
       "<table border=\"1\" class=\"dataframe\">\n",
       "  <thead>\n",
       "    <tr style=\"text-align: right;\">\n",
       "      <th></th>\n",
       "      <th>High</th>\n",
       "    </tr>\n",
       "  </thead>\n",
       "  <tbody>\n",
       "    <tr>\n",
       "      <th>2019-10-19</th>\n",
       "      <td>60.0</td>\n",
       "    </tr>\n",
       "    <tr>\n",
       "      <th>2019-11-19</th>\n",
       "      <td>220.0</td>\n",
       "    </tr>\n",
       "    <tr>\n",
       "      <th>2019-12-19</th>\n",
       "      <td>-285.0</td>\n",
       "    </tr>\n",
       "    <tr>\n",
       "      <th>2020-01-19</th>\n",
       "      <td>-80.0</td>\n",
       "    </tr>\n",
       "    <tr>\n",
       "      <th>2020-02-19</th>\n",
       "      <td>185.0</td>\n",
       "    </tr>\n",
       "    <tr>\n",
       "      <th>2020-03-19</th>\n",
       "      <td>1365.0</td>\n",
       "    </tr>\n",
       "    <tr>\n",
       "      <th>2020-04-19</th>\n",
       "      <td>765.0</td>\n",
       "    </tr>\n",
       "    <tr>\n",
       "      <th>2020-05-19</th>\n",
       "      <td>20.0</td>\n",
       "    </tr>\n",
       "    <tr>\n",
       "      <th>2020-06-19</th>\n",
       "      <td>-755.0</td>\n",
       "    </tr>\n",
       "    <tr>\n",
       "      <th>2020-07-19</th>\n",
       "      <td>30.0</td>\n",
       "    </tr>\n",
       "    <tr>\n",
       "      <th>2020-08-19</th>\n",
       "      <td>46015.0</td>\n",
       "    </tr>\n",
       "    <tr>\n",
       "      <th>2020-09-19</th>\n",
       "      <td>-17950.0</td>\n",
       "    </tr>\n",
       "  </tbody>\n",
       "</table>\n",
       "</div>"
      ],
      "text/plain": [
       "               High\n",
       "2019-10-19     60.0\n",
       "2019-11-19    220.0\n",
       "2019-12-19   -285.0\n",
       "2020-01-19    -80.0\n",
       "2020-02-19    185.0\n",
       "2020-03-19   1365.0\n",
       "2020-04-19    765.0\n",
       "2020-05-19     20.0\n",
       "2020-06-19   -755.0\n",
       "2020-07-19     30.0\n",
       "2020-08-19  46015.0\n",
       "2020-09-19 -17950.0"
      ]
     },
     "execution_count": 7,
     "metadata": {},
     "output_type": "execute_result"
    }
   ],
   "source": [
    "mdiff = tmp19.diff()\n",
    "mdiff = mdiff.dropna()\n",
    "mdiff"
   ]
  },
  {
   "cell_type": "code",
   "execution_count": 8,
   "metadata": {},
   "outputs": [
    {
     "data": {
      "text/html": [
       "<div>\n",
       "<style scoped>\n",
       "    .dataframe tbody tr th:only-of-type {\n",
       "        vertical-align: middle;\n",
       "    }\n",
       "\n",
       "    .dataframe tbody tr th {\n",
       "        vertical-align: top;\n",
       "    }\n",
       "\n",
       "    .dataframe thead th {\n",
       "        text-align: right;\n",
       "    }\n",
       "</style>\n",
       "<table border=\"1\" class=\"dataframe\">\n",
       "  <thead>\n",
       "    <tr style=\"text-align: right;\">\n",
       "      <th></th>\n",
       "      <th>High</th>\n",
       "    </tr>\n",
       "  </thead>\n",
       "  <tbody>\n",
       "    <tr>\n",
       "      <th>2019-10-19</th>\n",
       "      <td>0.027149</td>\n",
       "    </tr>\n",
       "    <tr>\n",
       "      <th>2019-11-19</th>\n",
       "      <td>0.096916</td>\n",
       "    </tr>\n",
       "    <tr>\n",
       "      <th>2019-12-19</th>\n",
       "      <td>-0.114458</td>\n",
       "    </tr>\n",
       "    <tr>\n",
       "      <th>2020-01-19</th>\n",
       "      <td>-0.036281</td>\n",
       "    </tr>\n",
       "    <tr>\n",
       "      <th>2020-02-19</th>\n",
       "      <td>0.087059</td>\n",
       "    </tr>\n",
       "    <tr>\n",
       "      <th>2020-03-19</th>\n",
       "      <td>0.590909</td>\n",
       "    </tr>\n",
       "    <tr>\n",
       "      <th>2020-04-19</th>\n",
       "      <td>0.208163</td>\n",
       "    </tr>\n",
       "    <tr>\n",
       "      <th>2020-05-19</th>\n",
       "      <td>0.004505</td>\n",
       "    </tr>\n",
       "    <tr>\n",
       "      <th>2020-06-19</th>\n",
       "      <td>-0.169283</td>\n",
       "    </tr>\n",
       "    <tr>\n",
       "      <th>2020-07-19</th>\n",
       "      <td>0.008097</td>\n",
       "    </tr>\n",
       "    <tr>\n",
       "      <th>2020-08-19</th>\n",
       "      <td>12.319946</td>\n",
       "    </tr>\n",
       "    <tr>\n",
       "      <th>2020-09-19</th>\n",
       "      <td>-0.360804</td>\n",
       "    </tr>\n",
       "  </tbody>\n",
       "</table>\n",
       "</div>"
      ],
      "text/plain": [
       "                 High\n",
       "2019-10-19   0.027149\n",
       "2019-11-19   0.096916\n",
       "2019-12-19  -0.114458\n",
       "2020-01-19  -0.036281\n",
       "2020-02-19   0.087059\n",
       "2020-03-19   0.590909\n",
       "2020-04-19   0.208163\n",
       "2020-05-19   0.004505\n",
       "2020-06-19  -0.169283\n",
       "2020-07-19   0.008097\n",
       "2020-08-19  12.319946\n",
       "2020-09-19  -0.360804"
      ]
     },
     "execution_count": 8,
     "metadata": {},
     "output_type": "execute_result"
    }
   ],
   "source": [
    "# mdiffrate = tmp19.pct_change().dropna()\n",
    "mdiffrate = mdiff/tmp19.shift().dropna()\n",
    "mdiffrate"
   ]
  },
  {
   "cell_type": "code",
   "execution_count": 9,
   "metadata": {},
   "outputs": [
    {
     "data": {
      "text/html": [
       "<div>\n",
       "<style scoped>\n",
       "    .dataframe tbody tr th:only-of-type {\n",
       "        vertical-align: middle;\n",
       "    }\n",
       "\n",
       "    .dataframe tbody tr th {\n",
       "        vertical-align: top;\n",
       "    }\n",
       "\n",
       "    .dataframe thead th {\n",
       "        text-align: right;\n",
       "    }\n",
       "</style>\n",
       "<table border=\"1\" class=\"dataframe\">\n",
       "  <thead>\n",
       "    <tr style=\"text-align: right;\">\n",
       "      <th></th>\n",
       "      <th>High</th>\n",
       "    </tr>\n",
       "  </thead>\n",
       "  <tbody>\n",
       "    <tr>\n",
       "      <th>2019-10-19</th>\n",
       "      <td>0.027149</td>\n",
       "    </tr>\n",
       "    <tr>\n",
       "      <th>2019-11-19</th>\n",
       "      <td>0.096916</td>\n",
       "    </tr>\n",
       "    <tr>\n",
       "      <th>2019-12-19</th>\n",
       "      <td>-0.114458</td>\n",
       "    </tr>\n",
       "    <tr>\n",
       "      <th>2020-01-19</th>\n",
       "      <td>-0.036281</td>\n",
       "    </tr>\n",
       "    <tr>\n",
       "      <th>2020-02-19</th>\n",
       "      <td>0.087059</td>\n",
       "    </tr>\n",
       "    <tr>\n",
       "      <th>2020-03-19</th>\n",
       "      <td>0.590909</td>\n",
       "    </tr>\n",
       "    <tr>\n",
       "      <th>2020-04-19</th>\n",
       "      <td>0.208163</td>\n",
       "    </tr>\n",
       "    <tr>\n",
       "      <th>2020-05-19</th>\n",
       "      <td>0.004505</td>\n",
       "    </tr>\n",
       "    <tr>\n",
       "      <th>2020-06-19</th>\n",
       "      <td>-0.169283</td>\n",
       "    </tr>\n",
       "    <tr>\n",
       "      <th>2020-07-19</th>\n",
       "      <td>0.008097</td>\n",
       "    </tr>\n",
       "    <tr>\n",
       "      <th>2020-08-19</th>\n",
       "      <td>12.319946</td>\n",
       "    </tr>\n",
       "    <tr>\n",
       "      <th>2020-09-19</th>\n",
       "      <td>-0.360804</td>\n",
       "    </tr>\n",
       "  </tbody>\n",
       "</table>\n",
       "</div>"
      ],
      "text/plain": [
       "                 High\n",
       "2019-10-19   0.027149\n",
       "2019-11-19   0.096916\n",
       "2019-12-19  -0.114458\n",
       "2020-01-19  -0.036281\n",
       "2020-02-19   0.087059\n",
       "2020-03-19   0.590909\n",
       "2020-04-19   0.208163\n",
       "2020-05-19   0.004505\n",
       "2020-06-19  -0.169283\n",
       "2020-07-19   0.008097\n",
       "2020-08-19  12.319946\n",
       "2020-09-19  -0.360804"
      ]
     },
     "execution_count": 9,
     "metadata": {},
     "output_type": "execute_result"
    }
   ],
   "source": [
    "tmp19.pct_change().dropna()"
   ]
  },
  {
   "cell_type": "markdown",
   "metadata": {},
   "source": [
    "(3) 주간 변화량과 변화율"
   ]
  },
  {
   "cell_type": "code",
   "execution_count": 10,
   "metadata": {},
   "outputs": [],
   "source": [
    "pass"
   ]
  },
  {
   "cell_type": "markdown",
   "metadata": {},
   "source": [
    "(4) 일간 변화량과 변화율\n",
    "\n",
    "월간과 달리, 날짜 색인에 대해 내림차순으로 정렬되어 있어, periods 값을 반대로 해야 한다."
   ]
  },
  {
   "cell_type": "code",
   "execution_count": 11,
   "metadata": {},
   "outputs": [
    {
     "data": {
      "text/html": [
       "<div>\n",
       "<style scoped>\n",
       "    .dataframe tbody tr th:only-of-type {\n",
       "        vertical-align: middle;\n",
       "    }\n",
       "\n",
       "    .dataframe tbody tr th {\n",
       "        vertical-align: top;\n",
       "    }\n",
       "\n",
       "    .dataframe thead th {\n",
       "        text-align: right;\n",
       "    }\n",
       "</style>\n",
       "<table border=\"1\" class=\"dataframe\">\n",
       "  <thead>\n",
       "    <tr style=\"text-align: right;\">\n",
       "      <th></th>\n",
       "      <th>High</th>\n",
       "    </tr>\n",
       "    <tr>\n",
       "      <th>Date</th>\n",
       "      <th></th>\n",
       "    </tr>\n",
       "  </thead>\n",
       "  <tbody>\n",
       "    <tr>\n",
       "      <th>2020-09-18</th>\n",
       "      <td>-1100.0</td>\n",
       "    </tr>\n",
       "    <tr>\n",
       "      <th>2020-09-17</th>\n",
       "      <td>950.0</td>\n",
       "    </tr>\n",
       "    <tr>\n",
       "      <th>2020-09-16</th>\n",
       "      <td>1450.0</td>\n",
       "    </tr>\n",
       "    <tr>\n",
       "      <th>2020-09-15</th>\n",
       "      <td>500.0</td>\n",
       "    </tr>\n",
       "    <tr>\n",
       "      <th>2020-09-14</th>\n",
       "      <td>-500.0</td>\n",
       "    </tr>\n",
       "  </tbody>\n",
       "</table>\n",
       "</div>"
      ],
      "text/plain": [
       "              High\n",
       "Date              \n",
       "2020-09-18 -1100.0\n",
       "2020-09-17   950.0\n",
       "2020-09-16  1450.0\n",
       "2020-09-15   500.0\n",
       "2020-09-14  -500.0"
      ]
     },
     "execution_count": 11,
     "metadata": {},
     "output_type": "execute_result"
    }
   ],
   "source": [
    "ddiff = sphigh.diff(-1)\n",
    "ddiff.head()"
   ]
  },
  {
   "cell_type": "code",
   "execution_count": 12,
   "metadata": {},
   "outputs": [
    {
     "data": {
      "text/html": [
       "<div>\n",
       "<style scoped>\n",
       "    .dataframe tbody tr th:only-of-type {\n",
       "        vertical-align: middle;\n",
       "    }\n",
       "\n",
       "    .dataframe tbody tr th {\n",
       "        vertical-align: top;\n",
       "    }\n",
       "\n",
       "    .dataframe thead th {\n",
       "        text-align: right;\n",
       "    }\n",
       "</style>\n",
       "<table border=\"1\" class=\"dataframe\">\n",
       "  <thead>\n",
       "    <tr style=\"text-align: right;\">\n",
       "      <th></th>\n",
       "      <th>High</th>\n",
       "    </tr>\n",
       "    <tr>\n",
       "      <th>Date</th>\n",
       "      <th></th>\n",
       "    </tr>\n",
       "  </thead>\n",
       "  <tbody>\n",
       "    <tr>\n",
       "      <th>2020-09-18</th>\n",
       "      <td>-0.033435</td>\n",
       "    </tr>\n",
       "    <tr>\n",
       "      <th>2020-09-17</th>\n",
       "      <td>0.029734</td>\n",
       "    </tr>\n",
       "    <tr>\n",
       "      <th>2020-09-16</th>\n",
       "      <td>0.047541</td>\n",
       "    </tr>\n",
       "    <tr>\n",
       "      <th>2020-09-15</th>\n",
       "      <td>0.016667</td>\n",
       "    </tr>\n",
       "    <tr>\n",
       "      <th>2020-09-14</th>\n",
       "      <td>-0.016393</td>\n",
       "    </tr>\n",
       "    <tr>\n",
       "      <th>...</th>\n",
       "      <td>...</td>\n",
       "    </tr>\n",
       "    <tr>\n",
       "      <th>2019-09-25</th>\n",
       "      <td>0.033784</td>\n",
       "    </tr>\n",
       "    <tr>\n",
       "      <th>2019-09-24</th>\n",
       "      <td>0.009091</td>\n",
       "    </tr>\n",
       "    <tr>\n",
       "      <th>2019-09-23</th>\n",
       "      <td>0.006865</td>\n",
       "    </tr>\n",
       "    <tr>\n",
       "      <th>2019-09-20</th>\n",
       "      <td>-0.011312</td>\n",
       "    </tr>\n",
       "    <tr>\n",
       "      <th>2019-09-19</th>\n",
       "      <td>NaN</td>\n",
       "    </tr>\n",
       "  </tbody>\n",
       "</table>\n",
       "<p>250 rows × 1 columns</p>\n",
       "</div>"
      ],
      "text/plain": [
       "                High\n",
       "Date                \n",
       "2020-09-18 -0.033435\n",
       "2020-09-17  0.029734\n",
       "2020-09-16  0.047541\n",
       "2020-09-15  0.016667\n",
       "2020-09-14 -0.016393\n",
       "...              ...\n",
       "2019-09-25  0.033784\n",
       "2019-09-24  0.009091\n",
       "2019-09-23  0.006865\n",
       "2019-09-20 -0.011312\n",
       "2019-09-19       NaN\n",
       "\n",
       "[250 rows x 1 columns]"
      ]
     },
     "execution_count": 12,
     "metadata": {},
     "output_type": "execute_result"
    }
   ],
   "source": [
    "ddiff/sphigh.shift(-1)"
   ]
  },
  {
   "cell_type": "code",
   "execution_count": 13,
   "metadata": {},
   "outputs": [
    {
     "data": {
      "text/html": [
       "<div>\n",
       "<style scoped>\n",
       "    .dataframe tbody tr th:only-of-type {\n",
       "        vertical-align: middle;\n",
       "    }\n",
       "\n",
       "    .dataframe tbody tr th {\n",
       "        vertical-align: top;\n",
       "    }\n",
       "\n",
       "    .dataframe thead th {\n",
       "        text-align: right;\n",
       "    }\n",
       "</style>\n",
       "<table border=\"1\" class=\"dataframe\">\n",
       "  <thead>\n",
       "    <tr style=\"text-align: right;\">\n",
       "      <th></th>\n",
       "      <th>High</th>\n",
       "    </tr>\n",
       "    <tr>\n",
       "      <th>Date</th>\n",
       "      <th></th>\n",
       "    </tr>\n",
       "  </thead>\n",
       "  <tbody>\n",
       "    <tr>\n",
       "      <th>2020-09-18</th>\n",
       "      <td>-0.033435</td>\n",
       "    </tr>\n",
       "    <tr>\n",
       "      <th>2020-09-17</th>\n",
       "      <td>0.029734</td>\n",
       "    </tr>\n",
       "    <tr>\n",
       "      <th>2020-09-16</th>\n",
       "      <td>0.047541</td>\n",
       "    </tr>\n",
       "    <tr>\n",
       "      <th>2020-09-15</th>\n",
       "      <td>0.016667</td>\n",
       "    </tr>\n",
       "    <tr>\n",
       "      <th>2020-09-14</th>\n",
       "      <td>-0.016393</td>\n",
       "    </tr>\n",
       "    <tr>\n",
       "      <th>...</th>\n",
       "      <td>...</td>\n",
       "    </tr>\n",
       "    <tr>\n",
       "      <th>2019-09-25</th>\n",
       "      <td>0.033784</td>\n",
       "    </tr>\n",
       "    <tr>\n",
       "      <th>2019-09-24</th>\n",
       "      <td>0.009091</td>\n",
       "    </tr>\n",
       "    <tr>\n",
       "      <th>2019-09-23</th>\n",
       "      <td>0.006865</td>\n",
       "    </tr>\n",
       "    <tr>\n",
       "      <th>2019-09-20</th>\n",
       "      <td>-0.011312</td>\n",
       "    </tr>\n",
       "    <tr>\n",
       "      <th>2019-09-19</th>\n",
       "      <td>NaN</td>\n",
       "    </tr>\n",
       "  </tbody>\n",
       "</table>\n",
       "<p>250 rows × 1 columns</p>\n",
       "</div>"
      ],
      "text/plain": [
       "                High\n",
       "Date                \n",
       "2020-09-18 -0.033435\n",
       "2020-09-17  0.029734\n",
       "2020-09-16  0.047541\n",
       "2020-09-15  0.016667\n",
       "2020-09-14 -0.016393\n",
       "...              ...\n",
       "2019-09-25  0.033784\n",
       "2019-09-24  0.009091\n",
       "2019-09-23  0.006865\n",
       "2019-09-20 -0.011312\n",
       "2019-09-19       NaN\n",
       "\n",
       "[250 rows x 1 columns]"
      ]
     },
     "execution_count": 13,
     "metadata": {},
     "output_type": "execute_result"
    }
   ],
   "source": [
    "# ddiffrate = ddiff/sphigh.shift(-1)\n",
    "ddiffrate = sphigh.pct_change(-1)\n",
    "ddiffrate"
   ]
  },
  {
   "cell_type": "markdown",
   "metadata": {},
   "source": [
    "변화율과 변화량에 대한 수학적 이해\n",
    "![](https://mblogthumb-phinf.pstatic.net/20160215_204/junhyuk7272_1455513946343KuVeI_PNG/%C6%F2%B1%D5%BA%AF%C8%AD%C0%B2.png?type=w420)\n",
    "\n",
    "![](https://mblogthumb-phinf.pstatic.net/20160215_216/junhyuk7272_1455513987980BQbvM_PNG/%BC%F8%B0%A3%BA%AF%C8%AD%C0%B2.png?type=w2)"
   ]
  },
  {
   "cell_type": "markdown",
   "metadata": {},
   "source": [
    "### 자동미분 패키지\n",
    "#### scipy\n",
    "scipy에서 제공하는 미분은 미분함수보다는 미분값을 제공한다.\n",
    "$$\\begin{align}\n",
    "f^{'}(x) &= \\lim_{\\Delta x \\rightarrow 0} \\cfrac {\\Delta f(x)}{\\Delta x} =\n",
    "\\lim_{\\Delta x \\rightarrow 0} \\cfrac {f(x + \\Delta x) - f(x)}{\\Delta x} \\\\\n",
    "&= \\lim_{\\Delta x \\rightarrow 0} \\cfrac {f(x + \\Delta x) - f(x - \\Delta x)}{2 \\Delta x}\n",
    "\\end{align}$$"
   ]
  },
  {
   "cell_type": "code",
   "execution_count": 14,
   "metadata": {},
   "outputs": [
    {
     "data": {
      "text/plain": [
       "4.999999999921734"
      ]
     },
     "execution_count": 14,
     "metadata": {},
     "output_type": "execute_result"
    }
   ],
   "source": [
    "from scipy.misc import derivative\n",
    "def f(x):\n",
    "    return x**3 + x**2\n",
    "\n",
    "derivative(f, 1.0, dx=1e-6)"
   ]
  },
  {
   "cell_type": "code",
   "execution_count": 15,
   "metadata": {},
   "outputs": [],
   "source": [
    "# trivial function: f(x) = x**2 - 1 / (x - 1)\n",
    "def fprimeOdd(x):\n",
    "    dx = 1e-6\n",
    "    df = f(x+dx) - f(x)\n",
    "    return df / dx\n",
    "# useful function\n",
    "def fprimeEven(x):\n",
    "    dx = 1e-12\n",
    "    df = f(x+dx) - f(x-dx)\n",
    "    return df / (2*dx)"
   ]
  },
  {
   "cell_type": "code",
   "execution_count": 16,
   "metadata": {},
   "outputs": [
    {
     "data": {
      "text/plain": [
       "5.00022245830678"
      ]
     },
     "execution_count": 16,
     "metadata": {},
     "output_type": "execute_result"
    }
   ],
   "source": [
    "fprimeEven(1)"
   ]
  },
  {
   "cell_type": "markdown",
   "metadata": {},
   "source": [
    "#### sympy\n",
    "미분함수를 생성해준다."
   ]
  },
  {
   "cell_type": "code",
   "execution_count": 17,
   "metadata": {},
   "outputs": [
    {
     "data": {
      "text/latex": [
       "$\\displaystyle - 2 \\sin{\\left(x \\right)} \\cos{\\left(x \\right)}$"
      ],
      "text/plain": [
       "-2*sin(x)*cos(x)"
      ]
     },
     "execution_count": 17,
     "metadata": {},
     "output_type": "execute_result"
    }
   ],
   "source": [
    "import sympy as sym\n",
    "\n",
    "x = sym.Symbol('x')\n",
    "a = sym.diff((sym.cos(x)**2),x)\n",
    "\n",
    "a"
   ]
  },
  {
   "cell_type": "code",
   "execution_count": 18,
   "metadata": {},
   "outputs": [],
   "source": [
    "from math import sin, cos\n",
    "def fp(x):\n",
    "    return eval(str(a))\n",
    "# def fp(x):\n",
    "#     return -2*sin(x)*cos(x)"
   ]
  },
  {
   "cell_type": "code",
   "execution_count": 19,
   "metadata": {},
   "outputs": [
    {
     "data": {
      "text/plain": [
       "-0.9999996829318347"
      ]
     },
     "execution_count": 19,
     "metadata": {},
     "output_type": "execute_result"
    }
   ],
   "source": [
    "fp(3.14/4)"
   ]
  },
  {
   "cell_type": "markdown",
   "metadata": {},
   "source": [
    "[Quiz] 다음 함수를 구현하고, 그 함수의 도함수를 구하자.\n",
    "$$N(x) = \\cfrac 1 {\\sqrt{2 \\pi }} \\exp \\left[ - \\cfrac {(x - 1)^2}{2} \\right]$$\n",
    "1. 도함수를 직접 작성하고 xs = [2, 1, 0]에서 그 값을 각각 구하여라\n",
    "2. 도함수의 symbol로 부터 함수를 작성하고 xs = [2, 1, 0]에서 그 값을 구하여라."
   ]
  },
  {
   "cell_type": "code",
   "execution_count": 20,
   "metadata": {},
   "outputs": [],
   "source": [
    "from math import exp, pi, sqrt\n",
    "xs = [2, 1, 0]\n",
    "def N(x):\n",
    "    res = exp(- (x-1)**2 / 2)\n",
    "    res = 1 / sqrt(2*pi) * res\n",
    "    return res"
   ]
  },
  {
   "cell_type": "code",
   "execution_count": 21,
   "metadata": {},
   "outputs": [
    {
     "data": {
      "text/plain": [
       "0.05399096651318806"
      ]
     },
     "execution_count": 21,
     "metadata": {},
     "output_type": "execute_result"
    }
   ],
   "source": [
    "N(3)"
   ]
  },
  {
   "cell_type": "code",
   "execution_count": 22,
   "metadata": {},
   "outputs": [],
   "source": [
    "def fprime(f, v):\n",
    "    dx = 1e-12\n",
    "    df = f(x+dx) - f(x-dx)\n",
    "    return df / (2*dx)"
   ]
  },
  {
   "cell_type": "code",
   "execution_count": 23,
   "metadata": {},
   "outputs": [
    {
     "name": "stdout",
     "output_type": "stream",
     "text": [
      "-0.2420008637926685\n",
      "0.0\n",
      "0.24198698600486068\n"
     ]
    }
   ],
   "source": [
    "for x in xs:\n",
    "    print(fprime(N, x))"
   ]
  },
  {
   "cell_type": "markdown",
   "metadata": {},
   "source": [
    "sympy의 symbol로 작성하기"
   ]
  },
  {
   "cell_type": "code",
   "execution_count": 24,
   "metadata": {},
   "outputs": [
    {
     "data": {
      "text/latex": [
       "$\\displaystyle \\frac{\\sqrt{2} \\left(1 - x\\right) e^{- \\frac{\\left(x - 1\\right)^{2}}{2}}}{2 \\sqrt{\\pi}}$"
      ],
      "text/plain": [
       "sqrt(2)*(1 - x)*exp(-(x - 1)**2/2)/(2*sqrt(pi))"
      ]
     },
     "execution_count": 24,
     "metadata": {},
     "output_type": "execute_result"
    }
   ],
   "source": [
    "import sympy as sym\n",
    "\n",
    "x = sym.Symbol('x')\n",
    "N = 1 / sym.sqrt(2*sym.pi) * sym.exp(- (x-1)**2 / 2)\n",
    "\n",
    "Nprime = sym.diff(N, x)\n",
    "Nprime"
   ]
  },
  {
   "cell_type": "code",
   "execution_count": 25,
   "metadata": {},
   "outputs": [
    {
     "data": {
      "text/plain": [
       "'sqrt(2)*(1 - x)*exp(-(x - 1)**2/2)/(2*sqrt(pi))'"
      ]
     },
     "execution_count": 25,
     "metadata": {},
     "output_type": "execute_result"
    }
   ],
   "source": [
    "str(Nprime)"
   ]
  },
  {
   "cell_type": "markdown",
   "metadata": {},
   "source": [
    "eval은 문자열을 파이썬 명령으로 변경해준다.\n",
    "```python\n",
    "'sqrt(2)*(1 - x)*exp(-(x - 1)**2/2)/(2*sqrt(pi))'\n",
    "sqrt(2)*(1 - x)*exp(-(x - 1)**2/2)/(2*sqrt(pi))\n",
    "```"
   ]
  },
  {
   "cell_type": "code",
   "execution_count": 26,
   "metadata": {},
   "outputs": [],
   "source": [
    "# from numpy import sqrt, pi, exp\n",
    "from math import sqrt, pi, exp\n",
    "def fp(x):\n",
    "    return eval(str(Nprime))"
   ]
  },
  {
   "cell_type": "code",
   "execution_count": 27,
   "metadata": {},
   "outputs": [
    {
     "name": "stdout",
     "output_type": "stream",
     "text": [
      "-0.2419707245191434\n",
      "0.0\n",
      "0.2419707245191434\n"
     ]
    }
   ],
   "source": [
    "for x in xs:\n",
    "    print(fp(x))"
   ]
  },
  {
   "cell_type": "markdown",
   "metadata": {},
   "source": [
    "[Quiz] 다음 함수를 구현하고, 그 함수의 도함수를 구하자.\n",
    "$$softmax(x) = \\cfrac {e^{x}}{\\sum_i e^x_i}$$\n",
    "1. 도함수를 직접 작성하고 x = [2, 4, 0]에서 그 값을 구하여라\n",
    "2. 도함수의 symbol로 부터 함수를 작성하고 x = [2, 4, 0]에서 그 값을 구하여라.\n",
    "\n",
    "> [Notice] 벡터에 대한 벡터의 미분은 행렬을 생성한다."
   ]
  },
  {
   "cell_type": "code",
   "execution_count": 28,
   "metadata": {},
   "outputs": [],
   "source": [
    "def softmax(v):\n",
    "    expv = np.exp(v)\n",
    "    return expv / expv.sum()"
   ]
  },
  {
   "cell_type": "code",
   "execution_count": 29,
   "metadata": {},
   "outputs": [],
   "source": [
    "def sprime(x):\n",
    "    dx = 1e-12\n",
    "    pmatrix = np.empty((len(x), len(x)))\n",
    "    arr = np.empty_like(x)\n",
    "    for i in range(len(arr)):\n",
    "        arr = x.copy()\n",
    "        arr[i] = arr[i] + dx\n",
    "        pmatrix[i] = (softmax(arr) - softmax(x)) / dx\n",
    "    return pmatrix"
   ]
  },
  {
   "cell_type": "code",
   "execution_count": 30,
   "metadata": {},
   "outputs": [
    {
     "name": "stdout",
     "output_type": "stream",
     "text": [
      "[0.11849965 0.8756006  0.00589975] 1.0\n"
     ]
    },
    {
     "data": {
      "text/plain": [
       "array([[ 0.10447199, -0.10369483, -0.00069909],\n",
       "       [-0.10376422,  0.10891288, -0.00516687],\n",
       "       [-0.00069389, -0.00521805,  0.00586423]])"
      ]
     },
     "execution_count": 30,
     "metadata": {},
     "output_type": "execute_result"
    }
   ],
   "source": [
    "# 미분할 때, 조심할 사항은 항상 dtype이 float를 갖도록 해줘야 한다.\n",
    "v = np.array([2., 4., -1.])\n",
    "dx = 1e-12\n",
    "print(softmax(v), softmax(v).sum())\n",
    "sprime(v)"
   ]
  },
  {
   "cell_type": "markdown",
   "metadata": {},
   "source": [
    "아래는 검산하기 위한 코드이다."
   ]
  },
  {
   "cell_type": "code",
   "execution_count": 31,
   "metadata": {},
   "outputs": [
    {
     "data": {
      "text/plain": [
       "array([-0.00069389, -0.00521805,  0.00586423])"
      ]
     },
     "execution_count": 31,
     "metadata": {},
     "output_type": "execute_result"
    }
   ],
   "source": [
    "vh = np.array([2, 4, -1+dx])\n",
    "(softmax(vh) - softmax(v))/dx"
   ]
  },
  {
   "cell_type": "markdown",
   "metadata": {},
   "source": [
    "## 수학적으로 미분을 계산\n",
    "$$\\begin{align}\n",
    "f^{'}(x) &= \\lim_{\\Delta x \\rightarrow 0} \\cfrac {\\Delta f(x)}{\\Delta x} =\n",
    "\\lim_{\\Delta x \\rightarrow 0} \\cfrac {f(x + \\Delta x) - f(x)}{\\Delta x} \\\\\n",
    "&= \\lim_{\\Delta x \\rightarrow 0} \\cfrac {f(x + \\Delta x) - f(x - \\Delta x)}{2 \\Delta x}\n",
    "\\end{align}$$"
   ]
  },
  {
   "cell_type": "code",
   "execution_count": 32,
   "metadata": {},
   "outputs": [
    {
     "data": {
      "text/plain": [
       "<AxesSubplot:xlabel='x'>"
      ]
     },
     "execution_count": 32,
     "metadata": {},
     "output_type": "execute_result"
    },
    {
     "data": {
      "image/png": "[encoded data removed]",
      "text/plain": [
       "<Figure size 432x288 with 1 Axes>"
      ]
     },
     "metadata": {
      "needs_background": "light"
     },
     "output_type": "display_data"
    }
   ],
   "source": [
    "import numpy as np\n",
    "x = np.arange(10, dtype='float')\n",
    "y = np.ones_like(x)\n",
    "\n",
    "import pandas as pd\n",
    "y = pd.Series(y)\n",
    "y.index = x\n",
    "y.index.name = 'x'\n",
    "y.plot()"
   ]
  },
  {
   "cell_type": "markdown",
   "metadata": {},
   "source": [
    "$y = f(x) = 1 = x^0$\n",
    "위 함수에 대해 미분을 구하면:\n",
    "$$\\lim_{\\Delta x \\rightarrow 0} \\cfrac {f(x + \\Delta x) - f(x)} {\\Delta x} = 0$$\n",
    "\n",
    "$y = f(x) = x^n$ 에 대한 미분을 구하면:\n",
    "$$\\begin{align}\n",
    "\\lim_{\\Delta x \\rightarrow 0} \\cfrac {f(x + \\Delta x) - f(x)} {\\Delta x} &= \\cfrac {(x + \\Delta x)^n - x^n} {\\Delta x} \\\\\n",
    "&= \\cfrac {x^n + n x^{n-1} \\Delta x + nC_2 x^{n-2} \\Delta x^2 ... - x^n} {\\Delta x}\\\\\n",
    "&= n x^{n-1}\n",
    "\\end{align}$$\n",
    "\n",
    "$y = f(x) + g(x)$ 에 대한 미분을 구하면:\n",
    "$$\\begin{align}\n",
    "y^{'}(x) &=\n",
    "\\lim_{\\Delta x \\rightarrow 0} \\cfrac {f(x + \\Delta x) + g(x + \\Delta x) - g(x) - f(x)}{\\Delta x} \\\\\n",
    "&= \\lim_{\\Delta x \\rightarrow 0} \\cfrac {f(x + \\Delta x) - f(x)}{\\Delta x} + \\cfrac {g(x + \\Delta x) - g(x)} {\\Delta x}\\\\\n",
    "& = f^{'}(x) + g^{'}(x)\n",
    "\\end{align}$$\n",
    "\n",
    "일반적으로 $y =  af(x) + bg(x) + ch(x) + ... $ 에 대한 미분이 아래와 같이 정리됨을 쉽게 보일 수 있다.\n",
    "$$y^{'}(x) = af^{'}(x) + bg^{'}(x) + ch^{'}(x) + \\cdots $$"
   ]
  },
  {
   "cell_type": "markdown",
   "metadata": {},
   "source": [
    "$y = 3x^3 - 5 x^2 + x + 4$ 미분을 구하게 되면:\n",
    "- $y^{'} = 9 x^2 - 10 x + 1$"
   ]
  },
  {
   "cell_type": "markdown",
   "metadata": {},
   "source": [
    "음수 지수 승(n = -m) 에 대해도 같은 법칙이 성립하는 지 알아봅시다.\n",
    "\n",
    "$y = f(x) = x^{-m}$ 인 경우에도 동일하게 $y^{'} = -m x^{-m-1}$ 이 성립할까?\n",
    "- set: $z = x^{-1} = \\cfrac 1 x$\n",
    "\n",
    "\n",
    "---\n",
    "$y = f(x)g(x)$ 인 경우:\n",
    "$$\\begin{align}\n",
    "y^{'}(x) &=\n",
    "\\lim_{\\Delta x \\rightarrow 0} \\cfrac {f(x + \\Delta x) g(x + \\Delta x) - g(x) f(x)}{\\Delta x} \\\\\n",
    "&=\n",
    "\\lim_{\\Delta x \\rightarrow 0} \\cfrac {\\left[ f(x + \\Delta x) g(x + \\Delta x) - f(x + \\Delta x) g(x) \\right] + \\left[ f(x + \\Delta x) g(x) - g(x) f(x) \\right]}{\\Delta x} \\\\\n",
    "&= \\lim_{\\Delta x \\rightarrow 0} f(x + \\Delta x) g^{'}(x) + f^{'}(x) g(x)\\\\\n",
    "& = f^{'}(x) g(x) + f(x) g^{'}(x)\n",
    "\\end{align}$$"
   ]
  },
  {
   "cell_type": "markdown",
   "metadata": {},
   "source": [
    "[Quiz] $ y = f(z) = f(g(x))$, @$z = g(x)$ 인 경우, $y^{'}(x) = ?$"
   ]
  },
  {
   "cell_type": "code",
   "execution_count": null,
   "metadata": {},
   "outputs": [],
   "source": []
  },
  {
   "cell_type": "code",
   "execution_count": null,
   "metadata": {},
   "outputs": [],
   "source": []
  },
  {
   "cell_type": "code",
   "execution_count": null,
   "metadata": {},
   "outputs": [],
   "source": []
  },
  {
   "cell_type": "markdown",
   "metadata": {},
   "source": [
    "#### 미분의 연쇄법칙\n",
    "$$\\begin{align}\n",
    "y^{'}(x) &= \\cfrac {\\Delta y}{\\Delta x} = \n",
    "\\lim_{\\Delta x \\rightarrow 0} \\cfrac {f(g(x + \\Delta x)) - f(g(x))} {\\Delta x} \\text{;     We set: }f(g(x + \\Delta x)) = f(z + \\Delta z)\\\\\n",
    "&=\n",
    "\\lim_{\\Delta x, \\Delta z \\rightarrow 0} \\cfrac {f(z + \\Delta z) - f(z)} {\\Delta x} = \\lim_{\\Delta x, \\Delta z \\rightarrow 0} \\cfrac {f(z + \\Delta z) - f(z)} {\\Delta x} \\cfrac {\\Delta z}{\\Delta z}\\\\\n",
    "& = f^{'}(z)g^{'}(x)  \\text{;     Generally: }\\\\\n",
    "\\cfrac {\\Delta y}{\\Delta x} &= \\cfrac {\\Delta y}{\\Delta z} \\cfrac {\\Delta z}{\\Delta x}\n",
    "\\end{align}$$"
   ]
  },
  {
   "cell_type": "code",
   "execution_count": null,
   "metadata": {},
   "outputs": [],
   "source": []
  },
  {
   "cell_type": "markdown",
   "metadata": {},
   "source": [
    "$y = f(x) = x^{-m}$ 인 경우에도 동일하게 $y^{'} = -m x^{-m-1}$ 이 성립할까?\n",
    "- set: $z = x^{-1} = \\cfrac 1 x$\n",
    "\n",
    "1. 먼저 아래 식을 살펴보면:\n",
    "$$\\begin{align}\n",
    "z'(x) = \\left( \\cfrac 1 x \\right)^{'} &= \\lim_{\\Delta x \\rightarrow 0} \\cfrac {\\cfrac 1 {x + \\Delta x} - \\cfrac 1 x} {\\Delta x} \\\\\n",
    "&= \\lim_{\\Delta x \\rightarrow 0} \\cfrac {\\cfrac x {x(x + \\Delta x)} - \\cfrac {x + \\Delta x} {x(x + \\Delta x)}} {\\Delta x} \\\\\n",
    "&= \\lim_{\\Delta x \\rightarrow 0} \\cfrac {\\cfrac {-\\Delta x} {x(x + \\Delta x)}} {\\Delta x} = - \\cfrac 1 {x^2}\n",
    "\\end{align}$$\n",
    "2. 이제 $y = x^{-m} = f(g(x)) = f(z) = z^m$, $z = g(x) = \\cfrac 1 x$라 하면, 위의 결과를 이용하여:\n",
    "$$\\begin{align}\n",
    "y'(x) &= f(g(x)) = f^{'}(z)g^{'}(x) \\\\\n",
    "&= m z^{m-1} \\left( - \\cfrac 1 {x^2} \\right) = - m \\left( \\cfrac 1 {x^{m-1}} \\right) \\left( \\cfrac 1 {x^2} \\right)\\\\\n",
    "&= - m \\cfrac 1 {x^{m+1}} = n x^{n-1} \\text(; n = -m)\n",
    "\\end{align}$$\n",
    "\n",
    "일반적으로, for $n \\in R$, $y(x) = x^n$인 경우, $y^{'} = n x^{n-1}$이 항상 성립한다.\n",
    "- $R$은 실수의 집합을 의미한다."
   ]
  },
  {
   "cell_type": "markdown",
   "metadata": {},
   "source": [
    "\\begin{align}\n",
    "y(x) &= \\cfrac {f(x)} {g(x)} = f(x) G(x), \\text{  hear: }G(x) = g^{-1}(x)\\\\\n",
    "y^{'}(x) &= \\cfrac {f^{'}(x) g(x) - g^{'}(x) f(x)} {g^2(x)}\n",
    "\\end{align}"
   ]
  },
  {
   "cell_type": "markdown",
   "metadata": {},
   "source": [
    "#### e의 이해\n",
    "마법의 저금통은 1원을 넣으면 정확히 1년 뒤에 1원이 더 늘어나(즉, 100% 성장률) 2원이 된다\n",
    "![](https://raw.githubusercontent.com/angeloyeo/angeloyeo.github.io/master/pics/2019-09-04_natural_number_e/pic1.png)\n",
    "\n",
    "여기서 만약 6개월마다 50%씩 성장한다고 세팅을 변경하면 어떻게 될까?\n",
    "![](https://raw.githubusercontent.com/angeloyeo/angeloyeo.github.io/master/pics/2019-09-04_natural_number_e/pic2.png)\n",
    "- $1\\times(1+0.5) + 0.5\\times(1+0.5) = (1 + \\cfrac 1 2)^2$\n",
    "\n",
    "그러면, 3번에 나눠서 성장시킨다면 어떻게 될지 확인해보자.\n",
    "![](https://raw.githubusercontent.com/angeloyeo/angeloyeo.github.io/master/pics/2019-09-04_natural_number_e/pic3.png)\n",
    "- $1\\times(1+ \\cfrac 1 3) + \\cfrac 1 3 \\times(1+\\cfrac 1 3) + \\cfrac 1 3 \\times (1+\\cfrac 1 3) + \\cfrac 1 3 \\times \\cfrac 1 3 \\times(1+\\cfrac 1 3) = (1 + 2\\cfrac 1 3 + (\\cfrac 1 3)^2)(1 + \\cfrac 1 3) = (1 + \\cfrac 1 3)^2$\n",
    "\n",
    "일반화하여 n번 나눠 성징시키면\n",
    "$$(1+\\frac{1}{n})^n$$\n",
    "\n",
    "무한히 많이 쪼개면 어떻게 될까? 성장량도 무한하게 커질까?\n"
   ]
  },
  {
   "cell_type": "markdown",
   "metadata": {},
   "source": [
    "$$\\begin{align}\n",
    "e &= \\lim_{n \\to \\infty} \\left(1 + \\cfrac 1 n \\right)^n = \\sum _{{n=0}}^{\\infty }{\\frac  {1}{n!}} \\sim 2.718\\\\\n",
    "e^{x}&=\\sum _{n=0}^{\\infty }{{x^{n}} \\over {n!}}\n",
    "\\end{align}$$"
   ]
  },
  {
   "cell_type": "markdown",
   "metadata": {},
   "source": [
    "#### 지수승에 대한 미분\n",
    "[Quiz] $y = e^x$일 때, $y^{'}$을 구하여라.\n",
    "\n",
    "$$\\begin{align}\n",
    "y^{'}(x) &= \\lim_{\\Delta x \\to 0} \\cfrac {e^{x + \\Delta x} - e^x}{\\Delta x} = e^x \\cfrac {e^{\\Delta x} - 1}{\\Delta x}\\\\\n",
    "&= e^x \\lim_{\\Delta x \\to 0} \\lim_{n \\to \\infty} \\cfrac {\\sum _{n=0}^{\\infty }{{\\Delta x^{n}} \\over {n!}} -1 } {\\Delta x}\\\\\n",
    "&= e^x \\lim_{\\Delta x \\to 0}  \\cfrac {( 1 + \\cfrac {\\Delta x}{1} + \\cfrac {\\Delta x^2}{2} + \\cdots ) - 1} {\\Delta x}  \\\\\n",
    "&= e^x \\left[ 1 + (\\cfrac {\\Delta x}{2} + \\cfrac {\\Delta x^2}{3!} + \\cdots) \\right] \\\\\n",
    "&= e^x\n",
    "\\end{align}$$"
   ]
  },
  {
   "cell_type": "markdown",
   "metadata": {},
   "source": [
    "log 함수에 대해:\n",
    "\n",
    "$y = \\log(x)$는 지수함수의 역함수로서 $e^y = x$\n",
    "- $e^{\\log(x)} = x$의 관계를 갖는다."
   ]
  },
  {
   "cell_type": "markdown",
   "metadata": {},
   "source": [
    "[Quiz] $z = e^{ax}$이고, $y = b^x$ 이라고 할 때, $z^{'}(x)$, $y^{'}(x)$를 구하자. 단, a, b는 모두 상수."
   ]
  },
  {
   "cell_type": "markdown",
   "metadata": {},
   "source": [
    "1. 이제 $y = b^x$에 대한 미분을 구해보자.\n",
    " - $b = e^a$이라 하면, $y = e^{ax}$이 되어\n",
    " - $y^{'}(x) = a b^x$이 된다.\n",
    " - 이제 a가 b에 대한 어떤 값을 가지는 지 알아내면 된다.\n",
    "$$\\begin{align}\n",
    "b &= e^a &\\text{ ; 양변에 log 함수를 취하면:} \\\\\n",
    "\\log(b) &= a &\\text{ ; 따라서:} \\\\\n",
    "y^{'}(x) &= \\log(b) b^x\n",
    "\\end{align}$$"
   ]
  },
  {
   "cell_type": "markdown",
   "metadata": {},
   "source": [
    "2. 먼저 z에 대한 미분(도함수)를 구해보자.\n",
    " - $z = e^{ax} = (e^a)^x$이므로, $b = e^a$이라 하면, $z(x) = b^x$이 된다.\n",
    " - 위의 1식으로 환원되므로:\n",
    "$$\\begin{align}\n",
    "z^{'}(x) &= (b^x)^{'} = \\log(b) b^x \\\\\n",
    "&= e^{\\log(a)} b^{x} = a e^{ax}\n",
    "\\end{align}$$"
   ]
  },
  {
   "cell_type": "markdown",
   "metadata": {},
   "source": [
    "[Quiz] $y = \\log(x^2)$에 대한 미분을 구해보자."
   ]
  },
  {
   "cell_type": "markdown",
   "metadata": {},
   "source": [
    "1. $z = x^2$이라 하면, $y = \\log(z)$이다. $y^{'}(z)$을 먼저 구하면:\n",
    "$$\\begin{align}\n",
    "y &= \\log(z) &\\text{ ; 양변에 exp을 취하면:} \\\\\n",
    "e^y &= z &\\text{ ; z를 y에 대해 미분하면:} \\\\\n",
    "e^y &= \\cfrac {\\Delta z} {\\Delta y} &\\text{ ; 양변에 역수를 취해주면:} \\\\\n",
    "y'(z) &= \\cfrac {\\Delta y} {\\Delta z} = (e^y)^{-1} = (e^{\\log(z)})^{-1} = z^{-1} = \\cfrac 1 z\n",
    "\\end{align}$$\n",
    "2. 이제 1식을 이용하여 최종적으로 $y^{'}(x)$를 구하면:\n",
    "$$\\begin{align}\n",
    "y &= \\log(x^2) = \\log(z) \\\\\n",
    "y^{'}(x) &= y^{'}(z) z^{'}(x) &\\text{ ; }z^{'} = 2x \\text{ 이므로:} \\\\\n",
    "&= \\cfrac {2x} {x^2} = \\cfrac 2 x\n",
    "\\end{align}$$"
   ]
  },
  {
   "cell_type": "code",
   "execution_count": null,
   "metadata": {},
   "outputs": [],
   "source": []
  },
  {
   "cell_type": "code",
   "execution_count": null,
   "metadata": {},
   "outputs": [],
   "source": []
  },
  {
   "cell_type": "code",
   "execution_count": null,
   "metadata": {},
   "outputs": [],
   "source": []
  },
  {
   "cell_type": "markdown",
   "metadata": {},
   "source": [
    "#### i의 이해\n",
    "1. 허수 i는 제곱하여 -1이 되는 값을 의미한다.\n",
    "$$i^2 = -1$$\n",
    "2. 허수에 대한 실수곱은 허수이다.\n",
    "$$(4i)^2 = -16$$\n",
    "3. 실수와 허수를 더 한 것을 복소수라 한다.\n",
    "$$3 + 4i$$\n",
    "4. 더해도 곱해도 실수가 되는 복소수를 켤레복소수(conjugate complex)라 한다.\n",
    " - 어떤 복소수 $(a + bi)$에 대한 켤레복소수는 $(a - bi)$이다.\n",
    " - $(a + bi) + (a - bi) = 2a$, $(a + bi) * (a - bi) = a^2 + b^2$"
   ]
  },
  {
   "cell_type": "code",
   "execution_count": 33,
   "metadata": {},
   "outputs": [
    {
     "data": {
      "text/plain": [
       "(3+4j)"
      ]
     },
     "execution_count": 33,
     "metadata": {},
     "output_type": "execute_result"
    }
   ],
   "source": [
    "a = 3 + 4j\n",
    "a"
   ]
  },
  {
   "cell_type": "code",
   "execution_count": 34,
   "metadata": {},
   "outputs": [
    {
     "data": {
      "text/plain": [
       "complex"
      ]
     },
     "execution_count": 34,
     "metadata": {},
     "output_type": "execute_result"
    }
   ],
   "source": [
    "type(a)"
   ]
  },
  {
   "cell_type": "code",
   "execution_count": 35,
   "metadata": {},
   "outputs": [
    {
     "data": {
      "text/plain": [
       "3.0"
      ]
     },
     "execution_count": 35,
     "metadata": {},
     "output_type": "execute_result"
    }
   ],
   "source": [
    "a.real"
   ]
  },
  {
   "cell_type": "code",
   "execution_count": 36,
   "metadata": {},
   "outputs": [
    {
     "data": {
      "text/plain": [
       "4.0"
      ]
     },
     "execution_count": 36,
     "metadata": {},
     "output_type": "execute_result"
    }
   ],
   "source": [
    "a.imag"
   ]
  },
  {
   "cell_type": "code",
   "execution_count": 37,
   "metadata": {},
   "outputs": [
    {
     "data": {
      "text/plain": [
       "(3-4j)"
      ]
     },
     "execution_count": 37,
     "metadata": {},
     "output_type": "execute_result"
    }
   ],
   "source": [
    "a.conjugate()"
   ]
  },
  {
   "cell_type": "code",
   "execution_count": 38,
   "metadata": {},
   "outputs": [
    {
     "data": {
      "text/plain": [
       "5.0"
      ]
     },
     "execution_count": 38,
     "metadata": {},
     "output_type": "execute_result"
    }
   ],
   "source": [
    "abs(a)"
   ]
  },
  {
   "cell_type": "code",
   "execution_count": 39,
   "metadata": {},
   "outputs": [
    {
     "data": {
      "text/plain": [
       "0.9272952180016122"
      ]
     },
     "execution_count": 39,
     "metadata": {},
     "output_type": "execute_result"
    }
   ],
   "source": [
    "import cmath\n",
    "cmath.phase(a)"
   ]
  },
  {
   "cell_type": "code",
   "execution_count": 52,
   "metadata": {},
   "outputs": [
    {
     "data": {
      "text/plain": [
       "53.13010235415598"
      ]
     },
     "execution_count": 52,
     "metadata": {},
     "output_type": "execute_result"
    }
   ],
   "source": [
    "cmath.phase(a)*360/(2*cmath.pi)"
   ]
  },
  {
   "cell_type": "code",
   "execution_count": 53,
   "metadata": {},
   "outputs": [
    {
     "data": {
      "text/plain": [
       "3.141592653589793"
      ]
     },
     "execution_count": 53,
     "metadata": {},
     "output_type": "execute_result"
    }
   ],
   "source": [
    "import math\n",
    "cmath.pi"
   ]
  },
  {
   "cell_type": "markdown",
   "metadata": {},
   "source": [
    "pi에 대한 정의 : 지름이 1인 원의 둘레"
   ]
  },
  {
   "cell_type": "code",
   "execution_count": 54,
   "metadata": {},
   "outputs": [
    {
     "data": {
      "text/plain": [
       "array([[3.+4.j]])"
      ]
     },
     "execution_count": 54,
     "metadata": {},
     "output_type": "execute_result"
    }
   ],
   "source": [
    "a = np.array([a])\n",
    "a"
   ]
  },
  {
   "cell_type": "code",
   "execution_count": 43,
   "metadata": {},
   "outputs": [
    {
     "data": {
      "text/plain": [
       "array([3.-4.j])"
      ]
     },
     "execution_count": 43,
     "metadata": {},
     "output_type": "execute_result"
    }
   ],
   "source": [
    "a.conj()"
   ]
  },
  {
   "cell_type": "code",
   "execution_count": 44,
   "metadata": {},
   "outputs": [
    {
     "data": {
      "text/plain": [
       "array([3.-4.j])"
      ]
     },
     "execution_count": 44,
     "metadata": {},
     "output_type": "execute_result"
    }
   ],
   "source": [
    "a.conjugate()"
   ]
  },
  {
   "cell_type": "code",
   "execution_count": 45,
   "metadata": {},
   "outputs": [
    {
     "data": {
      "text/plain": [
       "numpy.ndarray"
      ]
     },
     "execution_count": 45,
     "metadata": {},
     "output_type": "execute_result"
    }
   ],
   "source": [
    "type(a)"
   ]
  },
  {
   "cell_type": "markdown",
   "metadata": {},
   "source": [
    "```python\n",
    "(3 + 4i) * (3 + 4i) = 9 - 16 + 24i = -7 + 24i\n",
    "```"
   ]
  },
  {
   "cell_type": "code",
   "execution_count": 55,
   "metadata": {},
   "outputs": [
    {
     "data": {
      "text/plain": [
       "array([[-7.+24.j]])"
      ]
     },
     "execution_count": 55,
     "metadata": {},
     "output_type": "execute_result"
    }
   ],
   "source": [
    "a * a"
   ]
  },
  {
   "cell_type": "markdown",
   "metadata": {},
   "source": [
    "### 삼각함수\n",
    "![](http://tcpschool.com/lectures/img_codingmath_23.png)"
   ]
  },
  {
   "cell_type": "code",
   "execution_count": 60,
   "metadata": {},
   "outputs": [
    {
     "data": {
      "image/png": "[encoded data removed]",
      "text/plain": [
       "<Figure size 432x288 with 1 Axes>"
      ]
     },
     "metadata": {
      "needs_background": "light"
     },
     "output_type": "display_data"
    }
   ],
   "source": [
    "x = np.linspace(-pi, pi, 100)\n",
    "idx = 360*x / (2*pi)\n",
    "sinx, cosx, tanx = np.sin(x), np.cos(x), np.tan(x)\n",
    "trif = pd.DataFrame({'sinx':sinx, 'cosx':cosx, 'tanx':tanx}, index=idx)\n",
    "ax = trif.plot()\n",
    "ax.set_ylim((-2, 2))\n",
    "ax.grid(linestyle='--')"
   ]
  },
  {
   "cell_type": "markdown",
   "metadata": {},
   "source": [
    "![](https://t1.daumcdn.net/cfile/tistory/2131C04A527E704F1F)"
   ]
  },
  {
   "cell_type": "markdown",
   "metadata": {},
   "source": [
    "$$\\sin \\theta = \\cfrac y r \\text{ ... } \\cos \\theta = \\cfrac x r \\text{ ... } \n",
    "\\tan \\theta = \\cfrac y x = \\cfrac {\\sin \\theta}{\\cos \\theta}$$\n",
    "$$\\sin^2 \\theta + \\cos^2 \\theta = 1$$"
   ]
  },
  {
   "cell_type": "markdown",
   "metadata": {},
   "source": [
    "#### 삼각함수와 복소함수\n",
    "삼각함수는 아래와 같은 오일러 공식에 의해 복소수의 지수 표현식으로 나타낼 수 있다.\n",
    "$$e^{{ix}}\\,=\\,\\cos x+i\\sin x$$\n",
    "\n",
    "##### 증명: 테일러 급수를 이용한 방법\n",
    "테일러 급수에 따라 실수 범위에서 다음의 식이 성립한다.\n",
    "\n",
    "$$\n",
    "{\\displaystyle e^{x}={{x^{0}} \\over {0!}}+{{x^{1}} \\over {1!}}+{\\frac {x^{2}}{2!}}+{\\frac {x^{3}}{3!}}+\\cdots =\\sum _{n=0}^{\\infty }{\\frac {x^{n}}{n!}}}$$\n",
    "따라서:\n",
    "\n",
    "$$\n",
    "{\\displaystyle {\\begin{array}{rll}e^{x}&{}=1+x+{\\frac {x^{2}}{2!}}+{\\frac {x^{3}}{3!}}+\\cdots &{}=\\sum _{n=0}^{\\infty }{\\frac {x^{n}}{n!}}\\\\\\cos x&{}=1-{\\frac {x^{2}}{2!}}+{\\frac {x^{4}}{4!}}-{\\frac {x^{6}}{6!}}+\\cdots &{}=\\sum _{n=0}^{\\infty }{\\frac {(-1)^{n}}{(2n)!}}x^{2n}\\\\\\sin x&{}=x-{\\frac {x^{3}}{3!}}+{\\frac {x^{5}}{5!}}-{\\frac {x^{7}}{7!}}+\\cdots &{}=\\sum _{n=0}^{\\infty }{\\frac {(-1)^{n}}{(2n+1)!}}x^{2n+1}\\\\\\end{array}}}$$\n",
    "\n",
    "이때 ${\\displaystyle x}$가 복소수일 때에 앞의 무한급수를 각각의 함수로 정의한다. 그러면:\n",
    "\n",
    "$$\n",
    "{\\displaystyle {\\begin{aligned}e^{iz}&{}=1+iz+{\\frac {(iz)^{2}}{2!}}+{\\frac {(iz)^{3}}{3!}}+{\\frac {(iz)^{4}}{4!}}+{\\frac {(iz)^{5}}{5!}}+{\\frac {(iz)^{6}}{6!}}+{\\frac {(iz)^{7}}{7!}}+{\\frac {(iz)^{8}}{8!}}+\\cdots \\\\&{}=1+iz-{\\frac {z^{2}}{2!}}-{\\frac {iz^{3}}{3!}}+{\\frac {z^{4}}{4!}}+{\\frac {iz^{5}}{5!}}-{\\frac {z^{6}}{6!}}-{\\frac {iz^{7}}{7!}}+{\\frac {z^{8}}{8!}}+\\cdots \\\\&{}=\\left(1-{\\frac {z^{2}}{2!}}+{\\frac {z^{4}}{4!}}-{\\frac {z^{6}}{6!}}+{\\frac {z^{8}}{8!}}-\\cdots \\right)+i\\left(z-{\\frac {z^{3}}{3!}}+{\\frac {z^{5}}{5!}}-{\\frac {z^{7}}{7!}}+\\cdots \\right)\\\\&{}=\\cos z+i\\sin z\\end{aligned}}}$$\n",
    "\n",
    "가 된다."
   ]
  },
  {
   "cell_type": "markdown",
   "metadata": {},
   "source": [
    "[Quiz] $\\cos(x)$, $\\sin(x)$, $\\tan(x)$에 대한 미분을 구하자.\n",
    "\n",
    "$$\\begin{align}\n",
    "e^{ix} &= \\cos x + i \\sin x \\\\\n",
    "{e^{ix}}^{'} &= \\cos^{'} x + i \\sin^{'} x \\\\\n",
    "&= i e^{ix} = - \\sin x + i \\cos x \\\\\n",
    "\\sin^{'} x &= \\cos x \\\\\n",
    "\\cos^{'} x &= - \\sin x \\\\\n",
    "\\tan^{'} x &= \\left[ {\\cfrac {\\sin x}{\\cos x}} \\right]^{'} \\\\\n",
    "&= {\\cfrac {\\cos x \\cos x + \\sin x \\sin x}{\\cos^2 x}}\\\\\n",
    "&= \\cfrac {1}{\\cos^2 x} = \\sec^2 x = (1 + \\tan^2 x)\n",
    "\\end{align}$$"
   ]
  },
  {
   "cell_type": "markdown",
   "metadata": {},
   "source": [
    "[Quiz] 다음을 계산해보자.\n",
    "- $\\sin 2x$, $\\cos 2x$, $\\tan 2x$를 $\\sin x$, $\\cos x$, $\\tan x$로 표현해보자.\n",
    "- $\\sin (x+y)$, $\\cos (x+y)$, $\\tan (x+y)$를 $\\sin x$, $\\cos x$, $\\tan x$와 $\\sin y$, $\\cos y$, $\\tan y$로 표현해보자."
   ]
  },
  {
   "cell_type": "markdown",
   "metadata": {},
   "source": [
    "먼저 간단한 것부터:\n",
    "$$\\begin{align}\n",
    "e^{ix} &= \\cos x + i \\sin x \\\\\n",
    "e^{i2x} &= \\cos 2x + i \\sin 2x \\\\\n",
    "&= {e^{ix}}^2 \\\\\n",
    "&= (\\cos x + i \\sin x)^2 \\\\\n",
    "&= \\cos^2 x - \\sin^2 x + 2 i \\sin x \\cos x \\\\\n",
    "\\cos 2x &= \\cos^2 x - \\sin^2 x = 1 - \\sin^2 x\\\\\n",
    "\\sin 2x &= 2 \\sin x \\cos x\n",
    "\\end{align}$$"
   ]
  },
  {
   "cell_type": "markdown",
   "metadata": {},
   "source": [
    "일반화하면:\n",
    "$$\\begin{align}\n",
    "e^{ix} &= \\cos x + i \\sin x \\\\\n",
    "e^{i(x+y)} &= \\cos (x+y) + i \\sin (x+y) \\\\\n",
    "&= e^{ix} \\times e^{iy} \\\\\n",
    "&= (\\cos x + i \\sin x) \\times (\\cos y + i \\sin y) \\\\\n",
    "&= (\\cos x \\cos y - \\sin x \\sin y) +  i (\\sin x \\cos y + \\sin y \\cos x) \\\\\n",
    "\\sin (x+y) &= (\\cos x \\cos y - \\sin x \\sin y) \\\\\n",
    "\\cos (x+y) &= (\\sin x \\cos y + \\sin y \\cos x)\n",
    "\\end{align}$$"
   ]
  },
  {
   "cell_type": "markdown",
   "metadata": {},
   "source": [
    "[Quiz] 다음을 증명해보자.\n",
    "- $\\cos(-x) = \\cos(x)$\n",
    "- $\\sin(-x) = - \\sin(x)$\n",
    "- $\\tan(-x) = - \\tan(x)$"
   ]
  },
  {
   "cell_type": "markdown",
   "metadata": {},
   "source": [
    "\n",
    "$$\\begin{align}\n",
    "e^{ix} &= \\cos x + i \\sin x \\\\\n",
    "e^{-ix} &= \\cos -x + i \\sin -x \\\\\n",
    "e^{ix} \\times e^{-ix} &= e^{i(x-x)} = 1 \\\\\n",
    "\\cos (x-x) &= (\\cos x \\cos -x - \\sin x \\sin -x) = 1 \\\\\n",
    "\\sin (x-x) &= (\\sin x \\cos -x + \\sin -x \\cos x) = 0 \\\\\n",
    "\\sin -x &= - \\cfrac {\\sin x \\cos -x}{\\cos x} \\\\\n",
    "\\cos (-x) &= \\cos (x) \\\\\n",
    "\\sin (-x) &= - \\sin (x) \\\\\n",
    "\\cos (x) &= \\cfrac {e^{ix} + e^{-ix}} 2 \\\\\n",
    "\\sin (x) &= \\cfrac {e^{ix} - e^{-ix}} {2i}\n",
    "\\end{align}$$"
   ]
  },
  {
   "cell_type": "markdown",
   "metadata": {},
   "source": [
    "### 쌍곡선 함수(hyperbolic function)\n",
    "삼각함수(원함수)의 사인, 코사인, 탄젠트 등에서 추론되어 각각에 대응되는 다음과 같은 함수가 있다.\n",
    "\n",
    "쌍곡사인(hyperbolic sine)\n",
    "\n",
    "${\\displaystyle \\sinh x={\\frac {e^{x}-e^{-x}}{2}}=-i\\sin ix = \\cfrac {\\sin ix}{i}\\!}$\n",
    "\n",
    "쌍곡코사인(hyperbolic cosine)\n",
    "\n",
    "${\\displaystyle \\cosh x={\\frac {e^{x}+e^{-x}}{2}}=\\cos ix\\!}$\n",
    "\n",
    "쌍곡탄젠트(hyperbolic tangent)\n",
    "\n",
    "${\\displaystyle \\tanh x={\\frac {\\sinh x}{\\cosh x}}={\\frac {\\frac {e^{x}-e^{-x}}{2}}{\\frac {e^{x}+e^{-x}}{2}}}={\\frac {e^{x}-e^{-x}}{e^{x}+e^{-x}}}={\\frac {e^{2x}-1}{e^{2x}+1}}=-i\\tan ix\\!}$\n",
    "\n",
    "쌍곡코시컨트(hyperbolic cosecant)\n",
    "\n",
    "${\\displaystyle \\operatorname {csch} x={\\frac {1}{\\sinh x}}={\\frac {2}{e^{x}-e^{-x}}}=i\\,\\csc \\,ix\\!}$\n",
    "\n",
    "쌍곡시컨트(hyperbolic secant)\n",
    "\n",
    "${\\displaystyle \\operatorname {sech} x={\\frac {1}{\\cosh x}}={\\frac {2}{e^{x}+e^{-x}}}=\\sec {ix}\\!}$\n",
    "\n",
    "쌍곡코탄젠트(hyperbolic cotangent)\n",
    "\n",
    "${\\displaystyle \\coth x={\\frac {\\cosh x}{\\sinh x}}={\\frac {\\frac {e^{x}+e^{-x}}{2}}{\\frac {e^{x}-e^{-x}}{2}}}={\\frac {e^{x}+e^{-x}}{e^{x}-e^{-x}}}={\\frac {e^{2x}+1}{e^{2x}-1}}=i\\cot ix\\!}$\n",
    "\n",
    "![](https://upload.wikimedia.org/wikipedia/commons/thumb/7/76/Sinh_cosh_tanh.svg/800px-Sinh_cosh_tanh.svg.png)"
   ]
  },
  {
   "cell_type": "markdown",
   "metadata": {},
   "source": [
    "[Quiz] 다음과 같은 함수의 미분을 구해보자.\n",
    "- $\\tanh (x)$\n",
    "- $\\sigma(x) = \\cfrac 1 {1 + \\exp(-x)}$"
   ]
  },
  {
   "cell_type": "markdown",
   "metadata": {},
   "source": [
    "$$\\begin{align}\n",
    "\\tan^{'} x &= (1 + \\tan^2 x) \\\\\n",
    "\\tanh x &=-i \\tan ix \\\\\n",
    "\\tanh^{'} x &=-i\\tan^{'} ix \\\\\n",
    "&= (1 + \\tan^2 ix) \\\\\n",
    "&= (1 - \\tanh^2 x)\n",
    "\\end{align}$$"
   ]
  },
  {
   "cell_type": "markdown",
   "metadata": {},
   "source": [
    "$$\\begin{align}\n",
    "\\sigma(x) &= \\cfrac 1 {1 + \\exp(-x)} \\\\\n",
    "\\sigma^{'}(x) &= {{1 + \\exp(-x)}^{-1}}^{'} \\\\\n",
    "&= - \\cfrac {{\\exp(-x)}^{'}} {{(1 + \\exp(-x))}^2} \\\\\n",
    "&= \\cfrac {1 + \\exp(-x) - 1} {{(1 + \\exp(-x))}^2} \\\\\n",
    "&= \\sigma(x)(1 - \\sigma(x)) = \\sigma(x) - \\sigma^2(x)\n",
    "\\end{align}$$"
   ]
  },
  {
   "cell_type": "code",
   "execution_count": 5,
   "metadata": {},
   "outputs": [
    {
     "data": {
      "image/png": "[encoded data removed]",
      "text/plain": [
       "<Figure size 432x288 with 1 Axes>"
      ]
     },
     "metadata": {
      "needs_background": "light"
     },
     "output_type": "display_data"
    }
   ],
   "source": [
    "import numpy as np\n",
    "X = np.linspace(-50, 50, 1000)\n",
    "\n",
    "def sigmoid(v):\n",
    "    return 1/(1+np.exp(-v))\n",
    "\n",
    "prob = sigmoid(X)\n",
    "\n",
    "import pandas as pd\n",
    "sig = pd.DataFrame({'X':X, 'prob':prob})\n",
    "ax = sig.plot('X', 'prob', kind='line')\n",
    "# ax.set_xlim(-2, 2)"
   ]
  },
  {
   "cell_type": "code",
   "execution_count": null,
   "metadata": {},
   "outputs": [],
   "source": []
  },
  {
   "cell_type": "markdown",
   "metadata": {},
   "source": [
    "### 벡터의 미분\n",
    "Set : $y = X \\cdot w + b + \\epsilon = X \\cdot w + \\epsilon$\n",
    "- assume for 1 observative : x = (1, x), w = (b, w)\n",
    "\n",
    "We know:  (here, v and X is constant about w)\n",
    "\n",
    "$$\\begin{align}\n",
    "\\cfrac {\\partial}{\\partial w} \\left( v^T \\cdot w \\right) &= v \\\\\n",
    "\\cfrac {\\partial}{\\partial w} \\left( w^T \\cdot v \\right) &= v \\\\\n",
    "(w^T \\cdot X)^T &= X^T \\cdot w \\\\\n",
    "\\cfrac {\\partial}{\\partial w} \\left( w^T \\cdot X \\cdot w \\right) &= X \\cdot w + X^T \\cdot w\n",
    "\\end{align}$$\n",
    "\n",
    "So, We solve: y.shape = (N, ), X.shape=(N, p+1), w.shape = (p+1, )"
   ]
  },
  {
   "cell_type": "markdown",
   "metadata": {},
   "source": [
    "\\begin{align}\n",
    "v &= (v1, v2, v3)\\\\\n",
    "w &= (w1, w2, w3) \\\\\n",
    "s =v^T \\cdot w &= (v1w1 + v2w2 + v3w3) = w^T \\cdot v\\\\\n",
    "\\cfrac {\\Delta s}{\\Delta w} &= (\\cfrac {\\Delta s}{\\Delta w1}, \\cfrac {\\Delta s}{\\Delta w2}, \\cfrac {\\Delta s}{\\Delta w3})\\\\\n",
    "&= (v1, v2, v3)\n",
    "\\end{align}"
   ]
  },
  {
   "cell_type": "code",
   "execution_count": 1,
   "metadata": {},
   "outputs": [
    {
     "data": {
      "text/plain": [
       "((3, 3), (3,))"
      ]
     },
     "execution_count": 1,
     "metadata": {},
     "output_type": "execute_result"
    }
   ],
   "source": [
    "import numpy as np\n",
    "X = np.arange(9).reshape((3,3))\n",
    "w = np.arange(1,4)\n",
    "X.shape, w.shape"
   ]
  },
  {
   "cell_type": "code",
   "execution_count": 2,
   "metadata": {},
   "outputs": [
    {
     "data": {
      "text/plain": [
       "array([24, 30, 36])"
      ]
     },
     "execution_count": 2,
     "metadata": {},
     "output_type": "execute_result"
    }
   ],
   "source": [
    "w.T.dot(X).T"
   ]
  },
  {
   "cell_type": "code",
   "execution_count": 3,
   "metadata": {},
   "outputs": [
    {
     "data": {
      "text/plain": [
       "array([24, 30, 36])"
      ]
     },
     "execution_count": 3,
     "metadata": {},
     "output_type": "execute_result"
    }
   ],
   "source": [
    "X.T.dot(w)"
   ]
  },
  {
   "cell_type": "markdown",
   "metadata": {},
   "source": [
    "대칭행렬 A에 대해 $A^T == A$이므로, $A^T \\cdot w = A \\cdot w$가 성립한다."
   ]
  },
  {
   "cell_type": "code",
   "execution_count": 4,
   "metadata": {},
   "outputs": [
    {
     "data": {
      "text/plain": [
       "array([[45, 54, 63],\n",
       "       [54, 66, 78],\n",
       "       [63, 78, 93]])"
      ]
     },
     "execution_count": 4,
     "metadata": {},
     "output_type": "execute_result"
    }
   ],
   "source": [
    "A = X.T.dot(X)\n",
    "A"
   ]
  },
  {
   "cell_type": "code",
   "execution_count": 8,
   "metadata": {},
   "outputs": [
    {
     "data": {
      "text/plain": [
       "array([[ True,  True,  True],\n",
       "       [ True,  True,  True],\n",
       "       [ True,  True,  True]])"
      ]
     },
     "execution_count": 8,
     "metadata": {},
     "output_type": "execute_result"
    }
   ],
   "source": [
    "A.T == A"
   ]
  },
  {
   "cell_type": "code",
   "execution_count": 6,
   "metadata": {},
   "outputs": [
    {
     "data": {
      "text/plain": [
       "array([342, 420, 498])"
      ]
     },
     "execution_count": 6,
     "metadata": {},
     "output_type": "execute_result"
    }
   ],
   "source": [
    "A.dot(w)"
   ]
  },
  {
   "cell_type": "code",
   "execution_count": 7,
   "metadata": {},
   "outputs": [
    {
     "data": {
      "text/plain": [
       "array([342, 420, 498])"
      ]
     },
     "execution_count": 7,
     "metadata": {},
     "output_type": "execute_result"
    }
   ],
   "source": [
    "A.T.dot(w)"
   ]
  }
 ],
 "metadata": {
  "kernelspec": {
   "display_name": "Python 3",
   "language": "python",
   "name": "python3"
  },
  "language_info": {
   "codemirror_mode": {
    "name": "ipython",
    "version": 3
   },
   "file_extension": ".py",
   "mimetype": "text/x-python",
   "name": "python",
   "nbconvert_exporter": "python",
   "pygments_lexer": "ipython3",
   "version": "3.7.6"
  },
  "toc": {
   "base_numbering": 1,
   "nav_menu": {},
   "number_sections": true,
   "sideBar": true,
   "skip_h1_title": false,
   "title_cell": "Table of Contents",
   "title_sidebar": "Contents",
   "toc_cell": false,
   "toc_position": {},
   "toc_section_display": true,
   "toc_window_display": false
  },
  "varInspector": {
   "cols": {
    "lenName": 16,
    "lenType": 16,
    "lenVar": 40
   },
   "kernels_config": {
    "python": {
     "delete_cmd_postfix": "",
     "delete_cmd_prefix": "del ",
     "library": "var_list.py",
     "varRefreshCmd": "print(var_dic_list())"
    },
    "r": {
     "delete_cmd_postfix": ") ",
     "delete_cmd_prefix": "rm(",
     "library": "var_list.r",
     "varRefreshCmd": "cat(var_dic_list()) "
    }
   },
   "types_to_exclude": [
    "module",
    "function",
    "builtin_function_or_method",
    "instance",
    "_Feature"
   ],
   "window_display": false
  }
 },
 "nbformat": 4,
 "nbformat_minor": 5
}
